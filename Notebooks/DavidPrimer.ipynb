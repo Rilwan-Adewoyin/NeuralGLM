{
 "cells": [
  {
   "cell_type": "markdown",
   "metadata": {
    "ExecuteTime": {
     "end_time": "2022-02-24T10:55:16.990902Z",
     "start_time": "2022-02-24T10:55:16.988890Z"
    }
   },
   "source": [
    "## Example of how to use data"
   ]
  },
  {
   "cell_type": "markdown",
   "metadata": {},
   "source": [
    "### Primer\n",
    "\n",
    "1) using git switch your branch to the akanni branch: \n",
    "    git pull origin david\n",
    "\n",
    "2) Open the zip folder I have sent you\n",
    "\n",
    "    There should be a folder called Checkpoints.\n",
    "\n",
    "    Save this in your working directory for this project\n",
    " \n"
   ]
  },
  {
   "cell_type": "markdown",
   "metadata": {
    "ExecuteTime": {
     "end_time": "2022-02-24T11:14:08.871425Z",
     "start_time": "2022-02-24T11:14:08.869673Z"
    }
   },
   "source": [
    "### Data Layout\n",
    "\n",
    "The Checkpoints folder contains save data for different models trained. \n",
    "\n",
    "Each subfolder is a model type e.g. lognormal or compound_poisson that has been trained.\n",
    "\n",
    "Each subfolder will have a directory structure as follows:\n",
    "\n",
    "* lognormal\n",
    "    * version0\n",
    "        * checkpoints\n",
    "    * version1\n",
    "        * checkpoints\n"
   ]
  },
  {
   "cell_type": "markdown",
   "metadata": {
    "ExecuteTime": {
     "end_time": "2022-02-24T11:28:16.359701Z",
     "start_time": "2022-02-24T11:28:16.358102Z"
    }
   },
   "source": [
    "## Loading in Saved Predictions"
   ]
  },
  {
   "cell_type": "code",
   "execution_count": null,
   "metadata": {},
   "outputs": [],
   "source": [
    "## Example of how to load in the model's predictions for a specific Town\n",
    "# This cell allows you to specific which model to retreive\n",
    "model_version = 0\n",
    "target_distribution = \"compound_poisson\"\n",
    "base_nn = \"HLSTM\" #(Keep this fixed)"
   ]
  },
  {
   "cell_type": "code",
   "execution_count": null,
   "metadata": {},
   "outputs": [],
   "source": [
    "# Run this to get the prediction data in a variable named city_data\n",
    "# Getting data\n",
    "path_ = f\"../Checkpoints/DGLM_{base_nn}_{target_distribution}/lightning_logs/version_{model_version}/\"\n",
    "ckpt_path = glms.NeuralDGLM.get_ckpt_path(os.path.join(path_,\"checkpoints\"))\n",
    "\n",
    "scaler_features, scaler_target = glms.NeuralDGLM.load_scalers(path_)\n",
    "model = glms.NeuralDGLM.load_from_checkpoint(ckpt_path, save_hparams=False, scaler_features=scaler_features, scaler_target=scaler_target)\n",
    "model.freeze()\n",
    "model.eval()\n",
    "\n",
    "test_output = pickle.load( open(os.path.join(path_,\"test_output.pkl\"),\"rb\") )\n",
    "city_data = test_output['Cairns'] "
   ]
  },
  {
   "cell_type": "code",
   "execution_count": null,
   "metadata": {},
   "outputs": [],
   "source": [
    "city_data.keys()"
   ]
  },
  {
   "cell_type": "markdown",
   "metadata": {},
   "source": [
    "## city data contains the following:\n",
    "* Pred_mu: Prediction for mean term of distribution\n",
    "* Pred_disp: Prediction for dispersion term\n",
    "* Pred_p: Prediction for p term\n",
    "\n",
    "* True observed rain value\n",
    "* Dates"
   ]
  },
  {
   "cell_type": "markdown",
   "metadata": {},
   "source": [
    "### Example of processing Data\n",
    "\n",
    "\n"
   ]
  },
  {
   "cell_type": "code",
   "execution_count": null,
   "metadata": {},
   "outputs": [],
   "source": [
    "# Since our model predicts a week of data at once, we essentiall have predictions as follows:\n",
    "# pred1 = [day1, day2, day3, day4, day5, day6, day7]\n",
    "# pred2 = [day2, day3, day4, day5, day6, day7, day8]\n",
    "# pred3 = [day3, day4, day5, day6, day7, day8, day9]\n",
    "\n",
    "#Therefore to get the non overlapping sequence [day1, day2, .... day7,day8, da9,....]\n",
    "#we do the the following\n",
    "\n",
    "day_idx = 2\n",
    "pred_mu = test_data['pred_mu'][:,day_idx] #.shape\n",
    "pred_p = test_data['pred_p'][:,day_idx] \n",
    "pred_disp = test_data['pred_disp'][:, day_idx]\n",
    "\n",
    "target_rain_value = test_data['target_rain_value'][:,day_idx]\n",
    "dates = [ date_index[day_idx] for date_index in test_data['date'] if len(date_index)>day_idx]"
   ]
  },
  {
   "cell_type": "markdown",
   "metadata": {},
   "source": [
    "### Getting mean value from distribution parameter predictions pred_mu and pred_p and pred_disp\n",
    "To retreive the mean prediction from our prediction for the distribution parameters simply do the following"
   ]
  },
  {
   "cell_type": "code",
   "execution_count": null,
   "metadata": {},
   "outputs": [],
   "source": [
    "mean = model.target_distribution.get_mean(pred_mu, pred_disp, pred_p)\n",
    "variance = model.target_distribution.get_variance(pred_mu, pred_disp, pred_p)\n",
    "p = pred_p"
   ]
  },
  {
   "cell_type": "markdown",
   "metadata": {},
   "source": [
    "# Which Model Versions to use during testing now"
   ]
  },
  {
   "cell_type": "code",
   "execution_count": null,
   "metadata": {},
   "outputs": [],
   "source": [
    "# Compound Poisson -> version [13]\n",
    "# Gamma -> version 1\n",
    "# lognormal -> version 4"
   ]
  }
 ],
 "metadata": {
  "kernelspec": {
   "display_name": "Python 3",
   "language": "python",
   "name": "python3"
  },
  "language_info": {
   "codemirror_mode": {
    "name": "ipython",
    "version": 3
   },
   "file_extension": ".py",
   "mimetype": "text/x-python",
   "name": "python",
   "nbconvert_exporter": "python",
   "pygments_lexer": "ipython3",
   "version": "3.7.6"
  },
  "varInspector": {
   "cols": {
    "lenName": 16,
    "lenType": 16,
    "lenVar": 40
   },
   "kernels_config": {
    "python": {
     "delete_cmd_postfix": "",
     "delete_cmd_prefix": "del ",
     "library": "var_list.py",
     "varRefreshCmd": "print(var_dic_list())"
    },
    "r": {
     "delete_cmd_postfix": ") ",
     "delete_cmd_prefix": "rm(",
     "library": "var_list.r",
     "varRefreshCmd": "cat(var_dic_list()) "
    }
   },
   "types_to_exclude": [
    "module",
    "function",
    "builtin_function_or_method",
    "instance",
    "_Feature"
   ],
   "window_display": false
  }
 },
 "nbformat": 4,
 "nbformat_minor": 4
}
