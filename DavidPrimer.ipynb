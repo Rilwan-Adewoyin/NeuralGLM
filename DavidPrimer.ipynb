{
 "cells": [
  {
   "cell_type": "markdown",
   "metadata": {
    "ExecuteTime": {
     "end_time": "2022-02-24T10:55:16.990902Z",
     "start_time": "2022-02-24T10:55:16.988890Z"
    }
   },
   "source": [
    "## Example of how to use data"
   ]
  },
  {
   "cell_type": "markdown",
   "metadata": {},
   "source": [
    "### Primer\n",
    "\n",
    "1) using git switch your branch to the akanni branch: \n",
    "    git pull origin david\n",
    "\n",
    "2) Open the zip folder I have sent you\n",
    "\n",
    "    There should be a folder called Checkpoints.\n",
    "\n",
    "    Save this in your working directory for this project\n",
    " \n"
   ]
  },
  {
   "cell_type": "markdown",
   "metadata": {
    "ExecuteTime": {
     "end_time": "2022-02-24T11:14:08.871425Z",
     "start_time": "2022-02-24T11:14:08.869673Z"
    }
   },
   "source": [
    "### Data Layout\n",
    "\n",
    "The Checkpoints folder contains save data for different models trained. \n",
    "\n",
    "Each subfolder is a model type e.g. lognormal or compound_poisson that has been trained.\n",
    "\n",
    "Each subfolder will have a directory structure as follows:\n",
    "\n",
    "* lognormal\n",
    "    * version0\n",
    "        * checkpoints\n",
    "    * version1\n",
    "        * checkpoints\n"
   ]
  },
  {
   "cell_type": "markdown",
   "metadata": {
    "ExecuteTime": {
     "end_time": "2022-02-24T11:28:16.359701Z",
     "start_time": "2022-02-24T11:28:16.358102Z"
    }
   },
   "source": [
    "## Loading in Saved Predictions"
   ]
  },
  {
   "cell_type": "code",
   "execution_count": 3,
   "metadata": {},
   "outputs": [],
   "source": [
    "## Example of how to load in the model's predictions for a specific Town\n",
    "# This cell allows you to specific which model to retreive\n",
    "model_version = 1\n",
    "target_distribution = \"gamma_hurdle\"\n",
    "base_nn = \"HLSTM\" #(Keep this fixed)"
   ]
  },
  {
   "cell_type": "code",
   "execution_count": 4,
   "metadata": {},
   "outputs": [
    {
     "name": "stderr",
     "output_type": "stream",
     "text": [
      "C:\\Users\\david\\AppData\\Local\\Programs\\Python\\Python39\\lib\\site-packages\\sklearn\\base.py:329: UserWarning: Trying to unpickle estimator StandardScaler from version 0.23.2 when using version 1.0.2. This might lead to breaking code or invalid results. Use at your own risk. For more info please refer to:\n",
      "https://scikit-learn.org/stable/modules/model_persistence.html#security-maintainability-limitations\n",
      "  warnings.warn(\n"
     ]
    }
   ],
   "source": [
    "# Run this to get the prediction data in a variable named city_data\n",
    "# Getting data\n",
    "sys.path.append('../')\n",
    "import glms\n",
    "import pickle\n",
    "import torch\n",
    "\n",
    "path_ = f\"../Checkpoints/DGLM_{base_nn}_{target_distribution}/lightning_logs/version_{model_version}/\"\n",
    "ckpt_path = glms.NeuralDGLM.get_ckpt_path(os.path.join(path_,\"checkpoints\"))\n",
    "\n",
    "scaler_features, scaler_target = glms.NeuralDGLM.load_scalers(path_)\n",
    "model = glms.NeuralDGLM.load_from_checkpoint(ckpt_path, save_hparams=False, scaler_features=scaler_features, scaler_target=scaler_target)\n",
    "model.freeze()\n",
    "model.eval()\n",
    "\n",
    "test_output = pickle.load( open(os.path.join(path_,\"test_output.pkl\"),\"rb\") )\n",
    "city_data = test_output['Cairns'] "
   ]
  },
  {
   "cell_type": "code",
   "execution_count": 5,
   "metadata": {},
   "outputs": [
    {
     "data": {
      "text/plain": [
       "dict_keys(['pred_mu', 'pred_disp', 'target_did_rain', 'target_rain_value', 'date', 'pred_p'])"
      ]
     },
     "execution_count": 5,
     "metadata": {},
     "output_type": "execute_result"
    }
   ],
   "source": [
    "city_data.keys()\n"
   ]
  },
  {
   "cell_type": "markdown",
   "metadata": {},
   "source": [
    "## city data contains the following:\n",
    "* Pred_mu: Prediction for mean term of distribution\n",
    "* Pred_disp: Prediction for dispersion term\n",
    "* Pred_p: Prediction for p term\n",
    "\n",
    "* True observed rain value\n",
    "* Dates"
   ]
  },
  {
   "cell_type": "markdown",
   "metadata": {},
   "source": [
    "### Example of processing Data\n",
    "\n",
    "\n"
   ]
  },
  {
   "cell_type": "code",
   "execution_count": 6,
   "metadata": {},
   "outputs": [],
   "source": [
    "# Since our model predicts a week of data at once, we essentiall have predictions as follows:\n",
    "# pred1 = [day1, day2, day3, day4, day5, day6, day7]\n",
    "# pred2 = [day2, day3, day4, day5, day6, day7, day8]\n",
    "# pred3 = [day3, day4, day5, day6, day7, day8, day9]\n",
    "\n",
    "#Therefore to get the non overlapping sequence [day1, day2, .... day7,day8, da9,....]\n",
    "#we do the the following\n",
    "\n",
    "day_idx = 2\n",
    "pred_mu = city_data['pred_mu'][:,day_idx] #.shape\n",
    "pred_p = city_data['pred_p'][:,day_idx] \n",
    "pred_disp = city_data['pred_disp'][:, day_idx]\n",
    "\n",
    "target_rain_value = city_data['target_rain_value'][:,day_idx]\n",
    "dates = [ date_index[day_idx] for date_index in city_data['date'] if len(date_index)>day_idx]"
   ]
  },
  {
   "cell_type": "markdown",
   "metadata": {},
   "source": [
    "### Getting mean value from distribution parameter predictions pred_mu and pred_p and pred_disp\n",
    "To retreive the mean prediction from our prediction for the distribution parameters simply do the following"
   ]
  },
  {
   "cell_type": "code",
   "execution_count": 7,
   "metadata": {},
   "outputs": [
    {
     "data": {
      "text/plain": [
       "'import matplotlib.pyplot as plt\\nplt.plot(mean)\\nplt.show()\\nplt.plot(variance)\\nplt.show()\\nplt.plot(p)\\nplt.show()\\nprint([mean,variance,p])'"
      ]
     },
     "execution_count": 7,
     "metadata": {},
     "output_type": "execute_result"
    }
   ],
   "source": [
    "mean = model.target_distribution.get_mean(pred_mu, pred_disp, pred_p)\n",
    "variance = model.target_distribution.get_variance(pred_mu, pred_disp, pred_p)\n",
    "p = pred_p\n",
    "\n",
    "'''import matplotlib.pyplot as plt\n",
    "plt.plot(mean)\n",
    "plt.show()\n",
    "plt.plot(variance)\n",
    "plt.show()\n",
    "plt.plot(p)\n",
    "plt.show()\n",
    "print([mean,variance,p])'''\n"
   ]
  },
  {
   "cell_type": "markdown",
   "metadata": {},
   "source": [
    "# Which Model Versions to use during testing now"
   ]
  },
  {
   "cell_type": "code",
   "execution_count": 15,
   "metadata": {},
   "outputs": [],
   "source": [
    "# Compound Poisson -> version [13]\n",
    "# Gamma -> version 1\n",
    "# lognormal -> version 4\n"
   ]
  },
  {
   "cell_type": "markdown",
   "metadata": {},
   "source": [
    "### Diagnostocs for Gamma Model"
   ]
  },
  {
   "cell_type": "code",
   "execution_count": 8,
   "metadata": {},
   "outputs": [],
   "source": [
    "cities=sorted(['Albury', 'BadgerysCreek', 'Cobar', 'CoffsHarbour', 'Moree',\n",
    "             'NorahHead', 'NorfolkIsland',  'Richmond',\n",
    "            'Sydney', 'SydneyAirport', 'WaggaWagga', 'Williamtown',\n",
    "            'Wollongong', 'Canberra', 'Tuggeranong',  'Ballarat',\n",
    "            'Nhil', 'Portland', 'Watsonia', 'Dartmoor', 'Brisbane', 'Cairns',\n",
    "            'GoldCoast', 'Townsville', 'Adelaide', 'MountGambier', 'Nuriootpa',\n",
    "            'Woomera', 'Witchcliffe', 'PearceRAAF', 'PerthAirport',\n",
    "            'Perth',  'Walpole', 'Hobart', \n",
    "            'AliceSprings', 'Darwin', 'Uluru'])\n",
    " #had to remove 'Albany' , 'Katherine','Launceston','MountGinini','Newcastle','Penrith','SalmonGums',\n",
    "sys.path.append('../')\n",
    "import glms\n",
    "import pickle\n",
    "import torch\n",
    "\n",
    "path_ = f\"../Checkpoints/DGLM_{base_nn}_{target_distribution}/lightning_logs/version_{model_version}/\"\n",
    "ckpt_path = glms.NeuralDGLM.get_ckpt_path(os.path.join(path_,\"checkpoints\"))\n",
    "\n",
    "scaler_features, scaler_target = glms.NeuralDGLM.load_scalers(path_)\n",
    "model = glms.NeuralDGLM.load_from_checkpoint(ckpt_path, save_hparams=False, scaler_features=scaler_features, scaler_target=scaler_target)\n",
    "model.freeze()\n",
    "model.eval()\n",
    "\n",
    "test_output = pickle.load( open(os.path.join(path_,\"test_output.pkl\"),\"rb\") )"
   ]
  },
  {
   "cell_type": "code",
   "execution_count": 9,
   "metadata": {},
   "outputs": [
    {
     "name": "stdout",
     "output_type": "stream",
     "text": [
      "0 Adelaide\n",
      "1 Albury\n",
      "2 AliceSprings\n",
      "3 BadgerysCreek\n",
      "4 Ballarat\n",
      "5 Brisbane\n",
      "6 Cairns\n",
      "7 Canberra\n",
      "8 Cobar\n",
      "9 CoffsHarbour\n",
      "10 Dartmoor\n",
      "11 Darwin\n",
      "12 GoldCoast\n",
      "13 Hobart\n",
      "14 Moree\n",
      "15 MountGambier\n",
      "16 Nhil\n",
      "17 NorahHead\n",
      "18 NorfolkIsland\n",
      "19 Nuriootpa\n",
      "20 PearceRAAF\n",
      "21 Perth\n",
      "22 PerthAirport\n",
      "23 Portland\n",
      "24 Richmond\n",
      "25 Sydney\n",
      "26 SydneyAirport\n",
      "27 Townsville\n",
      "28 Tuggeranong\n",
      "29 Uluru\n",
      "30 WaggaWagga\n",
      "31 Walpole\n",
      "32 Watsonia\n",
      "33 Williamtown\n",
      "34 Witchcliffe\n",
      "35 Wollongong\n",
      "36 Woomera\n"
     ]
    }
   ],
   "source": [
    "gamma_allcities=[]\n",
    "\n",
    "for i,location in enumerate(cities):\n",
    "    city_data = test_output[location] \n",
    "    print(i,location)\n",
    "    city_data.keys()\n",
    "    day_idx = 2\n",
    "    pred_mu = city_data['pred_mu'][:,day_idx] #.shape\n",
    "    pred_p = city_data['pred_p'][:,day_idx] \n",
    "    pred_disp = city_data['pred_disp'][:, day_idx]\n",
    "    target_rain_value = city_data['target_rain_value'][:,day_idx]\n",
    "    dates = [ date_index[day_idx] for date_index in city_data['date'] if len(date_index)>day_idx]\n",
    "    gamma_allcities.append([i,location,pred_mu,pred_disp,pred_p,target_rain_value])\n",
    "    "
   ]
  },
  {
   "cell_type": "code",
   "execution_count": 212,
   "metadata": {},
   "outputs": [
    {
     "name": "stdout",
     "output_type": "stream",
     "text": [
      "0 done\n",
      "5 done\n",
      "10 done\n",
      "15 done\n",
      "20 done\n",
      "25 done\n"
     ]
    }
   ],
   "source": [
    "### Gamma ROC\n",
    "\n",
    "from sklearn.metrics import roc_curve, auc\n",
    "from scipy.special import gamma\n",
    "from math import exp\n",
    "import numpy as np\n",
    "import scipy.stats as scs\n",
    "\n",
    "# Gamma: alpha = 1/disp, beta = alpha/mu\n",
    "\n",
    "g_0mm=[]\n",
    "g_0mm_cdfx=[]\n",
    "\n",
    "for place in gamma_allcities:\n",
    "    for day in range(len(place[5])):\n",
    "        #vector of 'did it rain this much'\n",
    "        if place[5][day]>0.1:\n",
    "            g_0mm.append(1)\n",
    "        else:\n",
    "            g_0mm.append(0)\n",
    "        #vetor of 'probability it rained this much'\n",
    "        g_0mm_cdfx.append(1-((1-place[4][day])+(place[4][day]*scs.gamma(loc=1/place[3][day],scale=place[3][day]*place[2][day],a=1/place[3][day]).cdf(0.1))))\n",
    "print('0 done')\n",
    "\n",
    "g_5mm=[]\n",
    "g_5mm_cdfx=[]\n",
    "\n",
    "for place in gamma_allcities:\n",
    "    for day in range(len(place[5])):\n",
    "        #vector of 'did it rain this much'\n",
    "        if place[5][day]>5:\n",
    "            g_5mm.append(1)\n",
    "        else:\n",
    "            g_5mm.append(0)\n",
    "        #vetor of 'probability it rained this much'\n",
    "        g_5mm_cdfx.append( 1-((1-place[4][day])+(place[4][day]*scs.gamma(loc=1/place[3][day],scale=place[3][day]*place[2][day],a=1/place[3][day]).cdf(5))))\n",
    "print('5 done')\n",
    "\n",
    "\n",
    "g_10mm=[]\n",
    "g_10mm_cdfx=[]\n",
    "\n",
    "for place in gamma_allcities:\n",
    "    for day in range(len(place[5])):\n",
    "        #vector of 'did it rain this much'\n",
    "        if place[5][day]>10:\n",
    "            g_10mm.append(1)\n",
    "        else:\n",
    "            g_10mm.append(0)\n",
    "        #vetor of 'probability it rained this much'\n",
    "        g_10mm_cdfx.append(1-((1-place[4][day])+(place[4][day]*scs.gamma(loc=1/place[3][day],scale=place[3][day]*place[2][day],a=1/place[3][day]).cdf(10))))\n",
    "print('10 done')\n",
    "\n",
    "\n",
    "g_15mm=[]\n",
    "g_15mm_cdfx=[]\n",
    "\n",
    "for place in gamma_allcities:\n",
    "    for day in range(len(place[5])):\n",
    "        #vector of 'did it rain this much'\n",
    "        if place[5][day]>15:\n",
    "            g_15mm.append(1)\n",
    "        else:\n",
    "            g_15mm.append(0)\n",
    "        #vetor of 'probability it rained this much'\n",
    "        g_15mm_cdfx.append(1-((1-place[4][day])+(place[4][day]*scs.gamma(loc=1/place[3][day],scale=place[3][day]*place[2][day],a=1/place[3][day]).cdf(15))))\n",
    "print('15 done')\n",
    "\n",
    "\n",
    "g_20mm=[]\n",
    "g_20mm_cdfx=[]\n",
    "\n",
    "for place in gamma_allcities:\n",
    "    for day in range(len(place[5])):\n",
    "        #vector of 'did it rain this much'\n",
    "        if place[5][day]>20:\n",
    "            g_20mm.append(1)\n",
    "        else:\n",
    "            g_20mm.append(0)\n",
    "        #vetor of 'probability it rained this much'\n",
    "        g_20mm_cdfx.append(1-((1-place[4][day])+(place[4][day]*scs.gamma(loc=1/place[3][day],scale=place[3][day]*place[2][day],a=1/place[3][day]).cdf(20))))\n",
    "print('20 done')\n",
    "\n",
    "\n",
    "g_25mm=[]\n",
    "g_25mm_cdfx=[]\n",
    "\n",
    "for place in gamma_allcities:\n",
    "    for day in range(len(place[5])):\n",
    "        #vector of 'did it rain this much'\n",
    "        if place[5][day]>25:\n",
    "            g_25mm.append(1)\n",
    "        else:\n",
    "            g_25mm.append(0)\n",
    "        #vetor of 'probability it rained this much'\n",
    "        g_25mm_cdfx.append(1-((1-place[4][day])+(place[4][day]*scs.gamma(loc=1/place[3][day],scale=place[3][day]*place[2][day],a=1/place[3][day]).cdf(25))))\n",
    "print('25 done')\n",
    "\n"
   ]
  },
  {
   "cell_type": "code",
   "execution_count": 226,
   "metadata": {},
   "outputs": [
    {
     "data": {
      "image/png": "[encoded data removed]",
      "text/plain": [
       "<Figure size 432x288 with 1 Axes>"
      ]
     },
     "metadata": {
      "needs_background": "light"
     },
     "output_type": "display_data"
    }
   ],
   "source": [
    "from sklearn import metrics\n",
    "import matplotlib.pyplot as plt\n",
    "import matplotlib.colors as mcolors\n",
    "\n",
    "### GAMMA\n",
    "\n",
    "fpr_0mm, tpr_0mm, _ = metrics.roc_curve(g_0mm,g_0mm_cdfx)\n",
    "auc0 = metrics.roc_auc_score(g_0mm,g_0mm_cdfx)\n",
    "plt.plot(fpr_0mm,tpr_0mm,label='AUC='+str(auc0),color='black',alpha=0.7)\n",
    "\n",
    "fpr_5mm, tpr_5mm, _ = metrics.roc_curve(g_5mm,g_5mm_cdfx)\n",
    "auc5 = metrics.roc_auc_score(g_5mm,g_5mm_cdfx)\n",
    "plt.plot(fpr_5mm,tpr_5mm,label='AUC='+str(auc5),color='red',alpha=0.7)\n",
    "\n",
    "fpr_10mm, tpr_10mm, _ = metrics.roc_curve(g_10mm,g_10mm_cdfx)\n",
    "auc10 = metrics.roc_auc_score(g_10mm,g_10mm_cdfx)\n",
    "plt.plot(fpr_10mm,tpr_10mm,label='AUC='+str(auc10),color='orange',alpha=0.7)\n",
    "\n",
    "fpr_15mm, tpr_15mm, _ = metrics.roc_curve(g_15mm,g_15mm_cdfx)\n",
    "auc15 = metrics.roc_auc_score(g_15mm,g_15mm_cdfx)\n",
    "plt.plot(fpr_15mm,tpr_15mm,label='AUC='+str(auc15),color='green',alpha=0.7)\n",
    "\n",
    "fpr_20mm, tpr_20mm, _ = metrics.roc_curve(g_20mm,g_20mm_cdfx)\n",
    "auc20 = metrics.roc_auc_score(g_20mm,g_20mm_cdfx)\n",
    "plt.plot(fpr_20mm,tpr_20mm,label='AUC='+str(auc20),color='blue',alpha=0.7)\n",
    "\n",
    "fpr_25mm, tpr_25mm, _ = metrics.roc_curve(g_25mm,g_25mm_cdfx)\n",
    "auc25 = metrics.roc_auc_score(g_25mm,g_25mm_cdfx)\n",
    "plt.plot(fpr_25mm,tpr_25mm,label='AUC='+str(auc25),color='purple',alpha=0.7)\n",
    "\n",
    "plt.ylabel('True Positive Rate')\n",
    "plt.xlabel('False Positive Rate')\n",
    "plt.legend(['0mm '+str(round(auc0,5)),'5mm '+str(round(auc5,5)),'10mm '+str(round(auc10,5)),'15mm '+str(round(auc15,5)),'20mm '+str(round(auc20,5)),'25mm '+str(round(auc25,5))])\n",
    "plt.title('Gamma Model Australia')\n",
    "plt.savefig('ROC Gamma model')"
   ]
  },
  {
   "cell_type": "code",
   "execution_count": null,
   "metadata": {},
   "outputs": [],
   "source": [
    "#other diagnostocs coming soon"
   ]
  },
  {
   "cell_type": "markdown",
   "metadata": {},
   "source": [
    "### Diagnostics for Lognormal Model"
   ]
  },
  {
   "cell_type": "code",
   "execution_count": 10,
   "metadata": {},
   "outputs": [],
   "source": [
    "model_version = 4\n",
    "target_distribution = \"lognormal_hurdle\"\n",
    "base_nn = \"HLSTM\" #(Keep this fixed)"
   ]
  },
  {
   "cell_type": "code",
   "execution_count": 11,
   "metadata": {},
   "outputs": [],
   "source": [
    "cities=sorted(['Albury', 'BadgerysCreek', 'Cobar', 'CoffsHarbour', 'Moree',\n",
    "             'NorahHead', 'NorfolkIsland',  'Richmond',\n",
    "            'Sydney', 'SydneyAirport', 'WaggaWagga', 'Williamtown',\n",
    "            'Wollongong', 'Canberra', 'Tuggeranong',  'Ballarat',\n",
    "            'Nhil', 'Portland', 'Watsonia', 'Dartmoor', 'Brisbane', 'Cairns',\n",
    "            'GoldCoast', 'Townsville', 'Adelaide', 'MountGambier', 'Nuriootpa',\n",
    "            'Woomera', 'Witchcliffe', 'PearceRAAF', 'PerthAirport',\n",
    "            'Perth',  'Walpole', 'Hobart', \n",
    "            'AliceSprings', 'Darwin', 'Uluru'])\n",
    " #had to remove 'Albany' , 'Katherine','Launceston','MountGinini','Newcastle','Penrith','SalmonGums',\n",
    "sys.path.append('../')\n",
    "import glms\n",
    "import pickle\n",
    "import torch\n",
    "\n",
    "path_ = f\"../Checkpoints/DGLM_{base_nn}_{target_distribution}/lightning_logs/version_{model_version}/\"\n",
    "ckpt_path = glms.NeuralDGLM.get_ckpt_path(os.path.join(path_,\"checkpoints\"))\n",
    "\n",
    "scaler_features, scaler_target = glms.NeuralDGLM.load_scalers(path_)\n",
    "model = glms.NeuralDGLM.load_from_checkpoint(ckpt_path, save_hparams=False, scaler_features=scaler_features, scaler_target=scaler_target)\n",
    "model.freeze()\n",
    "model.eval()\n",
    "\n",
    "test_output = pickle.load( open(os.path.join(path_,\"test_output.pkl\"),\"rb\") )"
   ]
  },
  {
   "cell_type": "code",
   "execution_count": 12,
   "metadata": {},
   "outputs": [
    {
     "name": "stdout",
     "output_type": "stream",
     "text": [
      "0 Adelaide\n",
      "1 Albury\n",
      "2 AliceSprings\n",
      "3 BadgerysCreek\n",
      "4 Ballarat\n",
      "5 Brisbane\n",
      "6 Cairns\n",
      "7 Canberra\n",
      "8 Cobar\n",
      "9 CoffsHarbour\n",
      "10 Dartmoor\n",
      "11 Darwin\n",
      "12 GoldCoast\n",
      "13 Hobart\n",
      "14 Moree\n",
      "15 MountGambier\n",
      "16 Nhil\n",
      "17 NorahHead\n",
      "18 NorfolkIsland\n",
      "19 Nuriootpa\n",
      "20 PearceRAAF\n",
      "21 Perth\n",
      "22 PerthAirport\n",
      "23 Portland\n",
      "24 Richmond\n",
      "25 Sydney\n",
      "26 SydneyAirport\n",
      "27 Townsville\n",
      "28 Tuggeranong\n",
      "29 Uluru\n",
      "30 WaggaWagga\n",
      "31 Walpole\n",
      "32 Watsonia\n",
      "33 Williamtown\n",
      "34 Witchcliffe\n",
      "35 Wollongong\n",
      "36 Woomera\n"
     ]
    }
   ],
   "source": [
    "lognormal_allcities=[]\n",
    "\n",
    "for i,location in enumerate(cities):\n",
    "    city_data = test_output[location] \n",
    "    print(i,location)\n",
    "    city_data.keys()\n",
    "    day_idx = 2\n",
    "    pred_mu = city_data['pred_mu'][:,day_idx] #.shape\n",
    "    pred_p = city_data['pred_p'][:,day_idx] \n",
    "    pred_disp = city_data['pred_disp'][:, day_idx]\n",
    "    target_rain_value = city_data['target_rain_value'][:,day_idx]\n",
    "    dates = [ date_index[day_idx] for date_index in city_data['date'] if len(date_index)>day_idx]\n",
    "    lognormal_allcities.append([i,location,pred_mu,pred_disp,pred_p,target_rain_value])"
   ]
  },
  {
   "cell_type": "code",
   "execution_count": 33,
   "metadata": {},
   "outputs": [
    {
     "name": "stdout",
     "output_type": "stream",
     "text": [
      "0 done\n",
      "1 done\n",
      "2 done\n",
      "3 done\n",
      "4 done\n",
      "5 done\n",
      "6 done\n",
      "7 done\n",
      "8 done\n",
      "10 done\n",
      "15 done\n",
      "20 done\n",
      "25 done\n"
     ]
    }
   ],
   "source": [
    "### Log-Normal ROC\n",
    "\n",
    "from sklearn.metrics import roc_curve, auc\n",
    "from math import exp\n",
    "import numpy as np\n",
    "import scipy.stats as scs\n",
    "\n",
    "# Lognormal: mu=mu, disp=sigma\n",
    "\n",
    "log_0mm=[]\n",
    "log_0mm_cdfx=[]\n",
    "\n",
    "for place in lognormal_allcities:\n",
    "    for day in range(len(place[5])):\n",
    "        #vector of 'did it rain this much'\n",
    "        if place[5][day]>0.1:\n",
    "            log_0mm.append(1)\n",
    "        else:\n",
    "            log_0mm.append(0)\n",
    "        #vetor of 'probability it rained this much'\n",
    "        log_0mm_cdfx.append(1-((1-place[4][day])+(place[4][day]*scs.lognorm(s=place[3][day],loc=place[2][day]).cdf(0.1))))\n",
    "print('0 done')\n",
    "\n",
    "log_1mm_cdfx=[]\n",
    "\n",
    "for place in lognormal_allcities:\n",
    "    for day in range(len(place[5])):\n",
    "        #vetor of 'probability it rained this much'\n",
    "        log_1mm_cdfx.append( 1-((1-place[4][day])+(place[4][day]*scs.lognorm(s=place[3][day],loc=place[2][day]).cdf(1))))\n",
    "print('1 done')\n",
    "\n",
    "log_2mm_cdfx=[]\n",
    "\n",
    "for place in lognormal_allcities:\n",
    "    for day in range(len(place[5])):\n",
    "        #vetor of 'probability it rained this much'\n",
    "        log_2mm_cdfx.append( 1-((1-place[4][day])+(place[4][day]*scs.lognorm(s=place[3][day],loc=place[2][day]).cdf(2))))\n",
    "print('2 done')\n",
    "\n",
    "log_3mm_cdfx=[]\n",
    "\n",
    "for place in lognormal_allcities:\n",
    "    for day in range(len(place[5])):\n",
    "        #vetor of 'probability it rained this much'\n",
    "        log_3mm_cdfx.append( 1-((1-place[4][day])+(place[4][day]*scs.lognorm(s=place[3][day],loc=place[2][day]).cdf(3))))\n",
    "print('3 done')\n",
    "\n",
    "\n",
    "log_4mm_cdfx=[]\n",
    "\n",
    "for place in lognormal_allcities:\n",
    "    for day in range(len(place[5])):\n",
    "        #vetor of 'probability it rained this much'\n",
    "        log_4mm_cdfx.append( 1-((1-place[4][day])+(place[4][day]*scs.lognorm(s=place[3][day],loc=place[2][day]).cdf(4))))\n",
    "print('4 done')\n",
    "\n",
    "log_5mm=[]\n",
    "log_5mm_cdfx=[]\n",
    "\n",
    "for place in lognormal_allcities:\n",
    "    for day in range(len(place[5])):\n",
    "        #vector of 'did it rain this much'\n",
    "        if place[5][day]>5:\n",
    "            log_5mm.append(1)\n",
    "        else:\n",
    "            log_5mm.append(0)\n",
    "        #vetor of 'probability it rained this much'\n",
    "        log_5mm_cdfx.append( 1-((1-place[4][day])+(place[4][day]*scs.lognorm(s=place[3][day],loc=place[2][day]).cdf(5))))\n",
    "print('5 done')\n",
    "\n",
    "log_6mm_cdfx=[]\n",
    "\n",
    "for place in lognormal_allcities:\n",
    "    for day in range(len(place[5])):\n",
    "        #vetor of 'probability it rained this much'\n",
    "        log_6mm_cdfx.append( 1-((1-place[4][day])+(place[4][day]*scs.lognorm(s=place[3][day],loc=place[2][day]).cdf(6))))\n",
    "print('6 done')\n",
    "\n",
    "log_7mm_cdfx=[]\n",
    "\n",
    "for place in lognormal_allcities:\n",
    "    for day in range(len(place[5])):\n",
    "        #vetor of 'probability it rained this much'\n",
    "        log_7mm_cdfx.append( 1-((1-place[4][day])+(place[4][day]*scs.lognorm(s=place[3][day],loc=place[2][day]).cdf(7))))\n",
    "print('7 done')\n",
    "\n",
    "log_8mm_cdfx=[]\n",
    "\n",
    "for place in lognormal_allcities:\n",
    "    for day in range(len(place[5])):\n",
    "        #vetor of 'probability it rained this much'\n",
    "        log_8mm_cdfx.append( 1-((1-place[4][day])+(place[4][day]*scs.lognorm(s=place[3][day],loc=place[2][day]).cdf(8))))\n",
    "print('8 done')\n",
    "\n",
    "log_10mm=[]\n",
    "log_10mm_cdfx=[]\n",
    "\n",
    "for place in lognormal_allcities:\n",
    "    for day in range(len(place[5])):\n",
    "        #vector of 'did it rain this much'\n",
    "        if place[5][day]>10:\n",
    "            log_10mm.append(1)\n",
    "        else:\n",
    "            log_10mm.append(0)\n",
    "        #vetor of 'probability it rained this much'\n",
    "        log_10mm_cdfx.append(1-((1-place[4][day])+(place[4][day]*scs.lognorm(s=place[3][day],loc=place[2][day]).cdf(10))))\n",
    "print('10 done')\n",
    "\n",
    "\n",
    "log_15mm=[]\n",
    "log_15mm_cdfx=[]\n",
    "\n",
    "for place in lognormal_allcities:\n",
    "    for day in range(len(place[5])):\n",
    "        #vector of 'did it rain this much'\n",
    "        if place[5][day]>15:\n",
    "            log_15mm.append(1)\n",
    "        else:\n",
    "            log_15mm.append(0)\n",
    "        #vetor of 'probability it rained this much'\n",
    "        log_15mm_cdfx.append(1-((1-place[4][day])+(place[4][day]*scs.lognorm(s=place[3][day],loc=place[2][day]).cdf(15))))\n",
    "print('15 done')\n",
    "\n",
    "\n",
    "log_20mm=[]\n",
    "log_20mm_cdfx=[]\n",
    "\n",
    "for place in lognormal_allcities:\n",
    "    for day in range(len(place[5])):\n",
    "        #vector of 'did it rain this much'\n",
    "        if place[5][day]>20:\n",
    "            log_20mm.append(1)\n",
    "        else:\n",
    "            log_20mm.append(0)\n",
    "        #vetor of 'probability it rained this much'\n",
    "        log_20mm_cdfx.append(1-((1-place[4][day])+(place[4][day]*scs.lognorm(s=place[3][day],loc=place[2][day]).cdf(20))))\n",
    "print('20 done')\n",
    "\n",
    "\n",
    "log_25mm=[]\n",
    "log_25mm_cdfx=[]\n",
    "\n",
    "for place in lognormal_allcities:\n",
    "    for day in range(len(place[5])):\n",
    "        #vector of 'did it rain this much'\n",
    "        if place[5][day]>25:\n",
    "            log_25mm.append(1)\n",
    "        else:\n",
    "            log_25mm.append(0)\n",
    "        #vetor of 'probability it rained this much'\n",
    "        log_25mm_cdfx.append(1-((1-place[4][day])+(place[4][day]*scs.lognorm(s=place[3][day],loc=place[2][day]).cdf(25))))\n",
    "print('25 done')"
   ]
  },
  {
   "cell_type": "code",
   "execution_count": 259,
   "metadata": {},
   "outputs": [
    {
     "data": {
      "image/png": "[encoded data removed]",
      "text/plain": [
       "<Figure size 432x288 with 1 Axes>"
      ]
     },
     "metadata": {
      "needs_background": "light"
     },
     "output_type": "display_data"
    }
   ],
   "source": [
    "from sklearn import metrics\n",
    "import matplotlib.pyplot as plt\n",
    "import matplotlib.colors as mcolors\n",
    "\n",
    "### GAMMA\n",
    "\n",
    "fpr_0mm, tpr_0mm, _ = metrics.roc_curve(log_0mm,log_0mm_cdfx)\n",
    "auc0 = metrics.roc_auc_score(log_0mm,log_0mm_cdfx)\n",
    "plt.plot(fpr_0mm,tpr_0mm,label='AUC='+str(auc0),color='black',alpha=0.7)\n",
    "\n",
    "fpr_5mm, tpr_5mm, _ = metrics.roc_curve(log_5mm,log_5mm_cdfx)\n",
    "auc5 = metrics.roc_auc_score(log_5mm,log_5mm_cdfx)\n",
    "plt.plot(fpr_5mm,tpr_5mm,label='AUC='+str(auc5),color='red',alpha=0.7)\n",
    "\n",
    "fpr_10mm, tpr_10mm, _ = metrics.roc_curve(log_10mm,log_10mm_cdfx)\n",
    "auc10 = metrics.roc_auc_score(log_10mm,log_10mm_cdfx)\n",
    "plt.plot(fpr_10mm,tpr_10mm,label='AUC='+str(auc10),color='orange',alpha=0.7)\n",
    "\n",
    "fpr_15mm, tpr_15mm, _ = metrics.roc_curve(log_15mm,log_15mm_cdfx)\n",
    "auc15 = metrics.roc_auc_score(log_15mm,log_15mm_cdfx)\n",
    "plt.plot(fpr_15mm,tpr_15mm,label='AUC='+str(auc15),color='green',alpha=0.7)\n",
    "\n",
    "fpr_20mm, tpr_20mm, _ = metrics.roc_curve(log_20mm,log_20mm_cdfx)\n",
    "auc20 = metrics.roc_auc_score(log_20mm,log_20mm_cdfx)\n",
    "plt.plot(fpr_20mm,tpr_20mm,label='AUC='+str(auc20),color='blue',alpha=0.7)\n",
    "\n",
    "fpr_25mm, tpr_25mm, _ = metrics.roc_curve(log_25mm,log_25mm_cdfx)\n",
    "auc25 = metrics.roc_auc_score(log_25mm,log_25mm_cdfx)\n",
    "plt.plot(fpr_25mm,tpr_25mm,label='AUC='+str(auc25),color='purple',alpha=0.7)\n",
    "\n",
    "plt.ylabel('True Positive Rate')\n",
    "plt.xlabel('False Positive Rate')\n",
    "plt.legend(['0mm '+str(round(auc0,5)),'5mm '+str(round(auc5,5)),'10mm '+str(round(auc10,5)),'15mm '+str(round(auc15,5)),'20mm '+str(round(auc20,5)),'25mm '+str(round(auc25,5))])\n",
    "plt.title('Log-Normal Model Australia')\n",
    "plt.savefig('ROC Log-Normal model')"
   ]
  },
  {
   "cell_type": "code",
   "execution_count": 121,
   "metadata": {},
   "outputs": [],
   "source": [
    "#alternative for P(rain<x) - take median as predicted rain, and use that to do ecdf\n",
    "\n",
    "#gamma\n",
    "g_median_all=[]\n",
    "\n",
    "for place in gamma_allcities:\n",
    "    for day in range(len(place[5])):\n",
    "        if place[4][day]>0.5:\n",
    "            g_median_all.append(scs.gamma(loc=1/place[3][day],scale=place[3][day]*place[2][day],a=1/place[3][day]).ppf((place[4][day]-0.5)/place[4][day]))\n",
    "        else:\n",
    "            g_median_all.append(0)\n",
    "\n",
    "\n",
    "#lognormal\n",
    "log_median_all=[]\n",
    "\n",
    "for place in lognormal_allcities:\n",
    "    for day in range(len(place[5])):\n",
    "        if place[4][day]>0.5:\n",
    "            log_median_all.append(scs.lognorm(s=place[3][day],loc=place[2][day]).ppf((place[4][day]-0.5)/place[4][day]))\n",
    "        else:\n",
    "            log_median_all.append(0)\n"
   ]
  },
  {
   "cell_type": "markdown",
   "metadata": {},
   "source": [
    "### P(rain<x) plot for all three models"
   ]
  },
  {
   "cell_type": "code",
   "execution_count": 123,
   "metadata": {},
   "outputs": [
    {
     "data": {
      "image/png": "[encoded data removed]",
      "text/plain": [
       "<Figure size 432x288 with 1 Axes>"
      ]
     },
     "metadata": {
      "needs_background": "light"
     },
     "output_type": "display_data"
    }
   ],
   "source": [
    "#probability of precipitation > x\n",
    "from matplotlib import pyplot as plt \n",
    "\n",
    "import numpy as np\n",
    "from statsmodels.distributions.empirical_distribution import ECDF\n",
    "\n",
    "#empirical cdf\n",
    "allrain=np.array([])\n",
    "for place in gamma_allcities:\n",
    "    allrain=np.concatenate((allrain,place[5]))\n",
    "ecdf=ECDF(allrain)\n",
    "#alternative with median\n",
    "log_med_ecdf=ECDF(log_median_all)\n",
    "g_med_ecdf=ECDF(g_median_all)\n",
    "#averaged cdfs gamma\n",
    "\n",
    "plt.plot(ecdf.x, 1-ecdf.y,color='black')\n",
    "plt.plot(log_med_ecdf.x,1-log_med_ecdf.y,color='royalblue',alpha=0.7)\n",
    "plt.plot(g_med_ecdf.x,1-g_med_ecdf.y,color='green',alpha=0.7)\n",
    "plt.xlim([-1,50])\n",
    "plt.xlabel('Rain amount')\n",
    "plt.ylabel('Frequency')\n",
    "plt.legend(['Observed rain','Log-Normal median','Gamma median'])\n",
    "plt.savefig('diagnost_figure_c')\n",
    "\n",
    "\n",
    "#the blue line cuts off because there was no day where the median level was above ~5.\n",
    "\n",
    "#for the blue line, we can vary how much certainty is require about non-zero rain to classify it as such. \n",
    "#ie: instead of: if(p>quantile):invcdf(...),else:0   we can do if(p*lambda>quantile):invcdf(...),else:0\n",
    "# So in a sense, make it easier for the model to ferecast non zero rain by multiplying the hurdle by lambda>1.\n",
    "# \n",
    "# Could even try and calibrate this, by varying the value of lambda to achieve a better fit \n",
    "\n",
    "\n",
    "\n",
    "\n"
   ]
  },
  {
   "cell_type": "markdown",
   "metadata": {},
   "source": [
    "### Spread-skill plot"
   ]
  },
  {
   "cell_type": "code",
   "execution_count": null,
   "metadata": {},
   "outputs": [],
   "source": []
  }
 ],
 "metadata": {
  "kernelspec": {
   "display_name": "Python 3",
   "language": "python",
   "name": "python3"
  },
  "language_info": {
   "codemirror_mode": {
    "name": "ipython",
    "version": 3
   },
   "file_extension": ".py",
   "mimetype": "text/x-python",
   "name": "python",
   "nbconvert_exporter": "python",
   "pygments_lexer": "ipython3",
   "version": "3.9.10"
  },
  "varInspector": {
   "cols": {
    "lenName": 16,
    "lenType": 16,
    "lenVar": 40
   },
   "kernels_config": {
    "python": {
     "delete_cmd_postfix": "",
     "delete_cmd_prefix": "del ",
     "library": "var_list.py",
     "varRefreshCmd": "print(var_dic_list())"
    },
    "r": {
     "delete_cmd_postfix": ") ",
     "delete_cmd_prefix": "rm(",
     "library": "var_list.r",
     "varRefreshCmd": "cat(var_dic_list()) "
    }
   },
   "types_to_exclude": [
    "module",
    "function",
    "builtin_function_or_method",
    "instance",
    "_Feature"
   ],
   "window_display": false
  }
 },
 "nbformat": 4,
 "nbformat_minor": 4
}
